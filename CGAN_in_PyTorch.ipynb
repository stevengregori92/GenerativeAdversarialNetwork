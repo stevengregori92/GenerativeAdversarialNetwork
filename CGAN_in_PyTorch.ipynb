{
  "cells": [
    {
      "cell_type": "markdown",
      "metadata": {
        "id": "view-in-github",
        "colab_type": "text"
      },
      "source": [
        "<a href=\"https://colab.research.google.com/github/stevengregori92/GenerativeAdversarialNetwork/blob/main/CGAN_in_PyTorch.ipynb\" target=\"_parent\"><img src=\"https://colab.research.google.com/assets/colab-badge.svg\" alt=\"Open In Colab\"/></a>"
      ]
    },
    {
      "cell_type": "code",
      "execution_count": 1,
      "metadata": {
        "colab": {
          "base_uri": "https://localhost:8080/"
        },
        "id": "hE1o8N8RvLL_",
        "outputId": "d4e7396c-298e-4013-f487-f0c958d48355"
      },
      "outputs": [
        {
          "output_type": "stream",
          "name": "stdout",
          "text": [
            "Requirement already satisfied: jcopdl<2.0 in /usr/local/lib/python3.10/dist-packages (1.1.10)\n",
            "Requirement already satisfied: torch in /usr/local/lib/python3.10/dist-packages (from jcopdl<2.0) (2.0.1+cu118)\n",
            "Requirement already satisfied: numpy in /usr/local/lib/python3.10/dist-packages (from jcopdl<2.0) (1.22.4)\n",
            "Requirement already satisfied: pandas in /usr/local/lib/python3.10/dist-packages (from jcopdl<2.0) (1.5.3)\n",
            "Requirement already satisfied: matplotlib in /usr/local/lib/python3.10/dist-packages (from jcopdl<2.0) (3.7.1)\n",
            "Requirement already satisfied: pillow in /usr/local/lib/python3.10/dist-packages (from jcopdl<2.0) (8.4.0)\n",
            "Requirement already satisfied: contourpy>=1.0.1 in /usr/local/lib/python3.10/dist-packages (from matplotlib->jcopdl<2.0) (1.1.0)\n",
            "Requirement already satisfied: cycler>=0.10 in /usr/local/lib/python3.10/dist-packages (from matplotlib->jcopdl<2.0) (0.11.0)\n",
            "Requirement already satisfied: fonttools>=4.22.0 in /usr/local/lib/python3.10/dist-packages (from matplotlib->jcopdl<2.0) (4.40.0)\n",
            "Requirement already satisfied: kiwisolver>=1.0.1 in /usr/local/lib/python3.10/dist-packages (from matplotlib->jcopdl<2.0) (1.4.4)\n",
            "Requirement already satisfied: packaging>=20.0 in /usr/local/lib/python3.10/dist-packages (from matplotlib->jcopdl<2.0) (23.1)\n",
            "Requirement already satisfied: pyparsing>=2.3.1 in /usr/local/lib/python3.10/dist-packages (from matplotlib->jcopdl<2.0) (3.1.0)\n",
            "Requirement already satisfied: python-dateutil>=2.7 in /usr/local/lib/python3.10/dist-packages (from matplotlib->jcopdl<2.0) (2.8.2)\n",
            "Requirement already satisfied: pytz>=2020.1 in /usr/local/lib/python3.10/dist-packages (from pandas->jcopdl<2.0) (2022.7.1)\n",
            "Requirement already satisfied: filelock in /usr/local/lib/python3.10/dist-packages (from torch->jcopdl<2.0) (3.12.2)\n",
            "Requirement already satisfied: typing-extensions in /usr/local/lib/python3.10/dist-packages (from torch->jcopdl<2.0) (4.7.1)\n",
            "Requirement already satisfied: sympy in /usr/local/lib/python3.10/dist-packages (from torch->jcopdl<2.0) (1.11.1)\n",
            "Requirement already satisfied: networkx in /usr/local/lib/python3.10/dist-packages (from torch->jcopdl<2.0) (3.1)\n",
            "Requirement already satisfied: jinja2 in /usr/local/lib/python3.10/dist-packages (from torch->jcopdl<2.0) (3.1.2)\n",
            "Requirement already satisfied: triton==2.0.0 in /usr/local/lib/python3.10/dist-packages (from torch->jcopdl<2.0) (2.0.0)\n",
            "Requirement already satisfied: cmake in /usr/local/lib/python3.10/dist-packages (from triton==2.0.0->torch->jcopdl<2.0) (3.25.2)\n",
            "Requirement already satisfied: lit in /usr/local/lib/python3.10/dist-packages (from triton==2.0.0->torch->jcopdl<2.0) (16.0.6)\n",
            "Requirement already satisfied: six>=1.5 in /usr/local/lib/python3.10/dist-packages (from python-dateutil>=2.7->matplotlib->jcopdl<2.0) (1.16.0)\n",
            "Requirement already satisfied: MarkupSafe>=2.0 in /usr/local/lib/python3.10/dist-packages (from jinja2->torch->jcopdl<2.0) (2.1.3)\n",
            "Requirement already satisfied: mpmath>=0.19 in /usr/local/lib/python3.10/dist-packages (from sympy->torch->jcopdl<2.0) (1.3.0)\n"
          ]
        }
      ],
      "source": [
        "!pip install 'jcopdl<2.0'"
      ]
    },
    {
      "cell_type": "code",
      "execution_count": 2,
      "metadata": {
        "colab": {
          "base_uri": "https://localhost:8080/"
        },
        "id": "-b5HRKpM0H9P",
        "outputId": "a628a1f9-af02-4d5c-c14c-a118d2cf9526"
      },
      "outputs": [
        {
          "output_type": "stream",
          "name": "stdout",
          "text": [
            "Traceback (most recent call last):\n",
            "  File \"/usr/local/bin/gdown\", line 8, in <module>\n",
            "    sys.exit(main())\n",
            "  File \"/usr/local/lib/python3.10/dist-packages/gdown/cli.py\", line 151, in main\n",
            "    filename = download(\n",
            "  File \"/usr/local/lib/python3.10/dist-packages/gdown/download.py\", line 155, in download\n",
            "    res = sess.get(url, stream=True, verify=verify)\n",
            "  File \"/usr/local/lib/python3.10/dist-packages/requests/sessions.py\", line 542, in get\n",
            "    return self.request('GET', url, **kwargs)\n",
            "  File \"/usr/local/lib/python3.10/dist-packages/requests/sessions.py\", line 529, in request\n",
            "    resp = self.send(prep, **send_kwargs)\n",
            "  File \"/usr/local/lib/python3.10/dist-packages/requests/sessions.py\", line 645, in send\n",
            "    r = adapter.send(request, **kwargs)\n",
            "  File \"/usr/local/lib/python3.10/dist-packages/requests/adapters.py\", line 440, in send\n",
            "    resp = conn.urlopen(\n",
            "  File \"/usr/local/lib/python3.10/dist-packages/urllib3/connectionpool.py\", line 714, in urlopen\n",
            "    httplib_response = self._make_request(\n",
            "  File \"/usr/local/lib/python3.10/dist-packages/urllib3/connectionpool.py\", line 466, in _make_request\n",
            "    six.raise_from(e, None)\n",
            "  File \"<string>\", line 3, in raise_from\n",
            "  File \"/usr/local/lib/python3.10/dist-packages/urllib3/connectionpool.py\", line 461, in _make_request\n",
            "    httplib_response = conn.getresponse()\n",
            "  File \"/usr/lib/python3.10/http/client.py\", line 1375, in getresponse\n",
            "    response.begin()\n",
            "  File \"/usr/lib/python3.10/http/client.py\", line 318, in begin\n",
            "    version, status, reason = self._read_status()\n",
            "  File \"/usr/lib/python3.10/http/client.py\", line 279, in _read_status\n",
            "    line = str(self.fp.readline(_MAXLINE + 1), \"iso-8859-1\")\n",
            "  File \"/usr/lib/python3.10/socket.py\", line 705, in readinto\n",
            "    return self._sock.recv_into(b)\n",
            "KeyboardInterrupt\n",
            "^C\n"
          ]
        }
      ],
      "source": [
        "!gdown https://drive.google.com/uc?id=1x4HUS6yQYnrEmyKRsIrGfag0wZlL3LDx"
      ]
    },
    {
      "cell_type": "code",
      "execution_count": 3,
      "metadata": {
        "colab": {
          "base_uri": "https://localhost:8080/"
        },
        "id": "vZAd-Gvk1avM",
        "outputId": "43c175d6-baf3-4802-bb4b-c97b0aa0daff"
      },
      "outputs": [
        {
          "output_type": "stream",
          "name": "stdout",
          "text": [
            "Archive:  /content/mnist.zip\n",
            "replace data/.DS_Store? [y]es, [n]o, [A]ll, [N]one, [r]ename: "
          ]
        }
      ],
      "source": [
        "!unzip /content/mnist.zip"
      ]
    },
    {
      "cell_type": "code",
      "execution_count": 4,
      "metadata": {
        "colab": {
          "base_uri": "https://localhost:8080/"
        },
        "id": "7Guxmqn31pQd",
        "outputId": "93d36ede-3a23-4c28-f148-c8199ae91224"
      },
      "outputs": [
        {
          "output_type": "execute_result",
          "data": {
            "text/plain": [
              "device(type='cuda')"
            ]
          },
          "metadata": {},
          "execution_count": 4
        }
      ],
      "source": [
        "import torch\n",
        "from torch import nn, optim\n",
        "from jcopdl.callback import Callback, set_config\n",
        "device = torch.device('cuda' if torch.cuda.is_available() else 'cpu')\n",
        "device"
      ]
    },
    {
      "cell_type": "markdown",
      "metadata": {
        "id": "aZm5ApHo1yfQ"
      },
      "source": [
        "#Dataset & Dataloader"
      ]
    },
    {
      "cell_type": "code",
      "execution_count": 5,
      "metadata": {
        "id": "zMM-vCe41vvN"
      },
      "outputs": [],
      "source": [
        "from torchvision import datasets, transforms\n",
        "from torch.utils.data import DataLoader"
      ]
    },
    {
      "cell_type": "code",
      "execution_count": 6,
      "metadata": {
        "id": "I_rXP9rV1vvO"
      },
      "outputs": [],
      "source": [
        "bs=64\n",
        "\n",
        "transform = transforms.Compose([\n",
        "    transforms.Grayscale(),\n",
        "    transforms.ToTensor(),\n",
        "    transforms.Normalize([0.5], [0.5]) #menjadi (-1, 1) agar stabil\n",
        "])\n",
        "\n",
        "train_set = datasets.ImageFolder('data/train/', transform=transform)\n",
        "trainloader = DataLoader(train_set, batch_size=bs, shuffle = True, num_workers=2)"
      ]
    },
    {
      "cell_type": "markdown",
      "metadata": {
        "id": "0KhTBZRw96Pg"
      },
      "source": [
        "#Arsitektur & Config"
      ]
    },
    {
      "cell_type": "code",
      "execution_count": 7,
      "metadata": {
        "colab": {
          "base_uri": "https://localhost:8080/"
        },
        "id": "caj3UIhG99m1",
        "outputId": "acf24ed9-640c-470d-9491-28c5f191d13e"
      },
      "outputs": [
        {
          "output_type": "stream",
          "name": "stdout",
          "text": [
            "Overwriting model_cgan.py\n"
          ]
        }
      ],
      "source": [
        "%%writefile model_cgan.py\n",
        "\n",
        "import torch\n",
        "from torch import nn, optim\n",
        "from jcopdl.layers import linear_block\n",
        "\n",
        "class Discriminator(nn.Module):\n",
        "  def __init__(self, n_classes):\n",
        "    super().__init__()\n",
        "    self.flatten = nn.Flatten()\n",
        "    self.embed_label = nn.Embedding(n_classes, n_classes)\n",
        "    self.fc = nn.Sequential(\n",
        "        linear_block(784 + n_classes, 512, activation='lrelu'),\n",
        "        linear_block(512, 256, activation='lrelu'),\n",
        "        linear_block(256, 128, activation='lrelu'),\n",
        "        linear_block(128, 1, activation='sigmoid')\n",
        "    )\n",
        "\n",
        "  def forward(self, x, y):\n",
        "    x = self.flatten(x)\n",
        "    y = self.embed_label(y)\n",
        "\n",
        "    x = torch.cat([x,y], dim=1)\n",
        "    return self.fc(x)\n",
        "\n",
        "class Generator(nn.Module):\n",
        "  def __init__(self, z_dim, n_classes):\n",
        "    super().__init__()\n",
        "    self.z_dim = z_dim\n",
        "    self.embed_label = nn.Embedding(n_classes, n_classes)\n",
        "    self.fc = nn.Sequential(\n",
        "        nn.Flatten(),\n",
        "        linear_block(z_dim + n_classes, 128, activation='lrelu'),\n",
        "        linear_block(128, 256, activation='lrelu', batch_norm=True),\n",
        "        linear_block(256, 512, activation='lrelu', batch_norm=True),\n",
        "        linear_block(512, 1024, activation='lrelu', batch_norm=True),\n",
        "        linear_block(1024, 784, activation='tanh')\n",
        "    )\n",
        "\n",
        "  def forward(self, x, y):\n",
        "    y = self.embed_label(y)\n",
        "    x = torch.cat([x,y], dim=1)\n",
        "    return self.fc(x)\n",
        "\n",
        "  def generate(self, labels, device):\n",
        "    z = torch.randn((len(labels), self.z_dim), device=device)\n",
        "    return self.forward(z, labels)"
      ]
    },
    {
      "cell_type": "code",
      "execution_count": 8,
      "metadata": {
        "id": "0Te5a7NzCBTE"
      },
      "outputs": [],
      "source": [
        "config = set_config({\n",
        "    'z_dim' : 100,\n",
        "    'n_classes': len(train_set.classes),\n",
        "    'batch_size': bs\n",
        "})"
      ]
    },
    {
      "cell_type": "markdown",
      "metadata": {
        "id": "7Z9GfpH8X3Su"
      },
      "source": [
        "#Training Preparation"
      ]
    },
    {
      "cell_type": "code",
      "execution_count": 9,
      "metadata": {
        "id": "R-GQ5GTdYMoV"
      },
      "outputs": [],
      "source": [
        "from model_cgan import Discriminator, Generator"
      ]
    },
    {
      "cell_type": "code",
      "execution_count": 10,
      "metadata": {
        "id": "n76bFbItX_im"
      },
      "outputs": [],
      "source": [
        "D = Discriminator(config.n_classes).to(device)\n",
        "G = Generator(config.z_dim, config.n_classes).to(device)\n",
        "\n",
        "criterion = nn.BCELoss()\n",
        "d_optimizer = optim.Adam(D.parameters(), lr=0.0002)\n",
        "g_optimizer = optim.Adam(G.parameters(), lr=0.0002)"
      ]
    },
    {
      "cell_type": "markdown",
      "metadata": {
        "id": "xUImM9hYcL7C"
      },
      "source": [
        "#Training"
      ]
    },
    {
      "cell_type": "code",
      "execution_count": 17,
      "metadata": {
        "id": "ifAo30KQb3rH"
      },
      "outputs": [],
      "source": [
        "import os\n",
        "from torchvision.utils import save_image\n",
        "\n",
        "os.makedirs('output/CGAN/', exist_ok=True)\n",
        "os.makedirs('model/CGAN/', exist_ok=True)"
      ]
    },
    {
      "cell_type": "code",
      "execution_count": 18,
      "metadata": {
        "colab": {
          "base_uri": "https://localhost:8080/"
        },
        "id": "k0zlGOyDcyB3",
        "outputId": "ad4699ec-140b-423a-d0f0-6a79d28e2316"
      },
      "outputs": [
        {
          "output_type": "stream",
          "name": "stdout",
          "text": [
            "Epoch:     0 | D_loss: 0.00113 | G_loss: 20.71733\n",
            "Epoch:     5 | D_loss: 0.27093 | G_loss: 5.02341\n",
            "Epoch:    10 | D_loss: 0.27929 | G_loss: 8.95749\n",
            "Epoch:    15 | D_loss: 0.27190 | G_loss: 3.34692\n",
            "Epoch:    20 | D_loss: 0.08922 | G_loss: 8.21469\n",
            "Epoch:    25 | D_loss: 0.36645 | G_loss: 3.86576\n",
            "Epoch:    30 | D_loss: 0.16714 | G_loss: 2.41342\n",
            "Epoch:    35 | D_loss: 0.20032 | G_loss: 3.17189\n",
            "Epoch:    40 | D_loss: 0.10784 | G_loss: 4.08948\n",
            "Epoch:    45 | D_loss: 0.42051 | G_loss: 2.87173\n",
            "Epoch:    50 | D_loss: 0.48815 | G_loss: 2.71894\n",
            "Epoch:    55 | D_loss: 0.18478 | G_loss: 2.09532\n",
            "Epoch:    60 | D_loss: 0.65884 | G_loss: 1.38047\n",
            "Epoch:    65 | D_loss: 0.39648 | G_loss: 1.92454\n",
            "Epoch:    70 | D_loss: 0.20311 | G_loss: 3.15567\n",
            "Epoch:    75 | D_loss: 0.22001 | G_loss: 2.84710\n",
            "Epoch:    80 | D_loss: 0.29085 | G_loss: 2.12982\n",
            "Epoch:    85 | D_loss: 0.52415 | G_loss: 5.04550\n",
            "Epoch:    90 | D_loss: 0.13432 | G_loss: 4.03024\n",
            "Epoch:    95 | D_loss: 0.21035 | G_loss: 3.18914\n",
            "Epoch:   100 | D_loss: 0.38614 | G_loss: 1.62737\n",
            "Epoch:   105 | D_loss: 0.11382 | G_loss: 6.26593\n",
            "Epoch:   110 | D_loss: 0.06672 | G_loss: 5.95880\n",
            "Epoch:   115 | D_loss: 0.45029 | G_loss: 3.50946\n",
            "Epoch:   120 | D_loss: 0.38279 | G_loss: 5.33350\n",
            "Epoch:   125 | D_loss: 0.81754 | G_loss: 10.11894\n",
            "Epoch:   130 | D_loss: 0.26653 | G_loss: 3.14804\n",
            "Epoch:   135 | D_loss: 0.32907 | G_loss: 3.45629\n",
            "Epoch:   140 | D_loss: 0.17884 | G_loss: 3.75559\n",
            "Epoch:   145 | D_loss: 0.10617 | G_loss: 5.37156\n",
            "Epoch:   150 | D_loss: 0.09380 | G_loss: 6.93574\n",
            "Epoch:   155 | D_loss: 0.77248 | G_loss: 5.73935\n",
            "Epoch:   160 | D_loss: 0.14556 | G_loss: 3.65645\n",
            "Epoch:   165 | D_loss: 0.04797 | G_loss: 4.73236\n",
            "Epoch:   170 | D_loss: 0.31244 | G_loss: 4.39858\n",
            "Epoch:   175 | D_loss: 0.22256 | G_loss: 5.80653\n",
            "Epoch:   180 | D_loss: 0.30096 | G_loss: 4.82286\n",
            "Epoch:   185 | D_loss: 0.57910 | G_loss: 3.38445\n",
            "Epoch:   190 | D_loss: 1.18717 | G_loss: 6.30378\n",
            "Epoch:   195 | D_loss: 0.20044 | G_loss: 3.18783\n",
            "Epoch:   200 | D_loss: 0.08495 | G_loss: 4.64797\n",
            "Epoch:   205 | D_loss: 0.09761 | G_loss: 6.10109\n",
            "Epoch:   210 | D_loss: 0.06132 | G_loss: 14.89938\n",
            "Epoch:   215 | D_loss: 0.36848 | G_loss: 21.61245\n",
            "Epoch:   220 | D_loss: 0.37770 | G_loss: 7.77184\n",
            "Epoch:   225 | D_loss: 0.30008 | G_loss: 13.79470\n",
            "Epoch:   230 | D_loss: 0.88978 | G_loss: 18.06218\n",
            "Epoch:   235 | D_loss: 0.20455 | G_loss: 12.66453\n",
            "Epoch:   240 | D_loss: 0.20183 | G_loss: 8.73081\n",
            "Epoch:   245 | D_loss: 0.18556 | G_loss: 5.84092\n",
            "Epoch:   250 | D_loss: 0.45208 | G_loss: 11.33808\n",
            "Epoch:   255 | D_loss: 0.12352 | G_loss: 7.63408\n",
            "Epoch:   260 | D_loss: 0.14948 | G_loss: 6.49545\n",
            "Epoch:   265 | D_loss: 0.24136 | G_loss: 12.88302\n",
            "Epoch:   270 | D_loss: 0.63799 | G_loss: 20.63020\n",
            "Epoch:   275 | D_loss: 0.21144 | G_loss: 8.37418\n",
            "Epoch:   280 | D_loss: 0.42353 | G_loss: 21.59714\n",
            "Epoch:   285 | D_loss: 0.25471 | G_loss: 9.28302\n",
            "Epoch:   290 | D_loss: 0.26283 | G_loss: 9.75528\n",
            "Epoch:   295 | D_loss: 0.24844 | G_loss: 10.10820\n",
            "Epoch:   300 | D_loss: 0.29025 | G_loss: 14.50271\n",
            "Epoch:   305 | D_loss: 0.34486 | G_loss: 14.11079\n",
            "Epoch:   310 | D_loss: 0.25925 | G_loss: 15.33183\n",
            "Epoch:   315 | D_loss: 0.25883 | G_loss: 14.42401\n",
            "Epoch:   320 | D_loss: 0.57351 | G_loss: 8.65581\n",
            "Epoch:   325 | D_loss: 0.62097 | G_loss: 7.92896\n",
            "Epoch:   330 | D_loss: 0.16123 | G_loss: 4.45887\n",
            "Epoch:   335 | D_loss: 0.19670 | G_loss: 11.95036\n",
            "Epoch:   340 | D_loss: 0.39988 | G_loss: 4.28001\n",
            "Epoch:   345 | D_loss: 0.43151 | G_loss: 31.74471\n",
            "Epoch:   350 | D_loss: 0.27193 | G_loss: 3.44824\n",
            "Epoch:   355 | D_loss: 0.08198 | G_loss: 15.30262\n",
            "Epoch:   360 | D_loss: 0.21201 | G_loss: 6.59833\n",
            "Epoch:   365 | D_loss: 0.29719 | G_loss: 13.38760\n",
            "Epoch:   370 | D_loss: 0.36587 | G_loss: 3.36475\n",
            "Epoch:   375 | D_loss: 0.06558 | G_loss: 16.65776\n",
            "Epoch:   380 | D_loss: 0.28813 | G_loss: 3.65773\n",
            "Epoch:   385 | D_loss: 0.50731 | G_loss: 13.14798\n",
            "Epoch:   390 | D_loss: 0.34734 | G_loss: 7.57879\n",
            "Epoch:   395 | D_loss: 0.36266 | G_loss: 3.61914\n",
            "Epoch:   400 | D_loss: 0.28639 | G_loss: 6.10967\n",
            "Epoch:   405 | D_loss: 0.46476 | G_loss: 21.45494\n",
            "Epoch:   410 | D_loss: 0.13459 | G_loss: 22.85602\n",
            "Epoch:   415 | D_loss: 0.12235 | G_loss: 9.47904\n",
            "Epoch:   420 | D_loss: 0.28490 | G_loss: 3.46261\n",
            "Epoch:   425 | D_loss: 0.43263 | G_loss: 11.97218\n",
            "Epoch:   430 | D_loss: 0.17285 | G_loss: 10.84872\n",
            "Epoch:   435 | D_loss: 0.28439 | G_loss: 3.08090\n",
            "Epoch:   440 | D_loss: 0.34297 | G_loss: 9.09922\n",
            "Epoch:   445 | D_loss: 0.13084 | G_loss: 10.41427\n",
            "Epoch:   450 | D_loss: 0.36864 | G_loss: 11.55136\n",
            "Epoch:   455 | D_loss: 0.26398 | G_loss: 10.23026\n",
            "Epoch:   460 | D_loss: 0.46773 | G_loss: 13.83033\n",
            "Epoch:   465 | D_loss: 0.48488 | G_loss: 3.59304\n",
            "Epoch:   470 | D_loss: 0.89412 | G_loss: 24.38885\n",
            "Epoch:   475 | D_loss: 0.39766 | G_loss: 6.95438\n",
            "Epoch:   480 | D_loss: 0.12415 | G_loss: 6.97715\n",
            "Epoch:   485 | D_loss: 0.26625 | G_loss: 5.10147\n",
            "Epoch:   490 | D_loss: 0.20194 | G_loss: 16.57755\n",
            "Epoch:   495 | D_loss: 0.68765 | G_loss: 4.11855\n"
          ]
        }
      ],
      "source": [
        "max_epochs = 500\n",
        "fix_labels = torch.randint(10, (64,), device=device)\n",
        "for epoch in range(max_epochs):\n",
        "  D.train()\n",
        "  G.train()\n",
        "  for real_img, labels in trainloader:\n",
        "    n_data = real_img.shape[0]\n",
        "\n",
        "    # Real and Fake Images\n",
        "    real_img, labels = real_img.to(device), labels.to(device)\n",
        "    fake_img = G.generate(labels, device)\n",
        "\n",
        "    # Real and Fake Labels\n",
        "    real = torch.ones((n_data, 1), device=device)\n",
        "    fake = torch.zeros((n_data, 1), device=device)\n",
        "\n",
        "    ## Training Discriminator\n",
        "    d_optimizer.zero_grad()\n",
        "    # Real Image -> Discriminator -> Real Label\n",
        "    output = D(real_img, labels)\n",
        "    d_real_loss = criterion(output, real)\n",
        "\n",
        "    #Fake Image -> Discriminator -> Fake Label\n",
        "    output = D(fake_img.detach(), labels)\n",
        "    d_fake_loss = criterion(output, fake)\n",
        "\n",
        "    d_loss = d_real_loss + d_fake_loss\n",
        "    d_loss.backward()\n",
        "    d_optimizer.step()\n",
        "\n",
        "    ## Training Generator\n",
        "    g_optimizer.zero_grad()\n",
        "    #Fake image -> Discriminator -> Tapi label Real\n",
        "    output = D(fake_img, labels)\n",
        "    g_loss = criterion(output, real)\n",
        "    g_loss.backward()\n",
        "    g_optimizer.step()\n",
        "\n",
        "  if epoch % 5 == 0:\n",
        "    print(f'Epoch: {epoch:5} | D_loss: {d_loss/2:.5f} | G_loss: {g_loss:.5f}')\n",
        "\n",
        "  if epoch % 15 == 0:\n",
        "    G.eval()\n",
        "    epoch = str(epoch).zfill(4)\n",
        "    fake_img = G.generate(fix_labels, device)\n",
        "    save_image(fake_img.view(-1,1,28,28), f'output/CGAN/{epoch}.jpg', nrow=8, normalize=True)\n",
        "\n",
        "    torch.save(D, 'model/CGAN/discriminator.pth')\n",
        "    torch.save(G, 'model/CGAN/generator.pth')"
      ]
    },
    {
      "cell_type": "code",
      "execution_count": 19,
      "metadata": {
        "id": "Mek9wL5yh3QV",
        "colab": {
          "base_uri": "https://localhost:8080/"
        },
        "outputId": "513c3763-85e4-47d3-8e4f-a50f4c002064"
      },
      "outputs": [
        {
          "output_type": "stream",
          "name": "stdout",
          "text": [
            "  adding: content/model/ (stored 0%)\n",
            "  adding: content/model/GAN/ (stored 0%)\n",
            "  adding: content/model/CGAN/ (stored 0%)\n",
            "  adding: content/model/CGAN/generator.pth (deflated 8%)\n",
            "  adding: content/model/CGAN/discriminator.pth (deflated 7%)\n"
          ]
        }
      ],
      "source": [
        "!zip -r model.zip /content/model"
      ]
    },
    {
      "cell_type": "code",
      "source": [],
      "metadata": {
        "id": "Ix4QkXXUV7Ff"
      },
      "execution_count": null,
      "outputs": []
    }
  ],
  "metadata": {
    "accelerator": "GPU",
    "colab": {
      "provenance": [],
      "gpuType": "T4",
      "authorship_tag": "ABX9TyMleT7qOlTvR4EXi2zA0BS8",
      "include_colab_link": true
    },
    "kernelspec": {
      "display_name": "Python 3",
      "name": "python3"
    },
    "language_info": {
      "name": "python"
    }
  },
  "nbformat": 4,
  "nbformat_minor": 0
}